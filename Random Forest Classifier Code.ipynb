{
 "cells": [
  {
   "cell_type": "code",
   "execution_count": 434,
   "id": "2457fe16",
   "metadata": {},
   "outputs": [],
   "source": [
    "import pandas as pd\n",
    "import numpy as np\n",
    "from sklearn.ensemble import RandomForestClassifier\n",
    "from datetime import datetime\n",
    "from datetime import date"
   ]
  },
  {
   "cell_type": "code",
   "execution_count": 435,
   "id": "65ad1a07",
   "metadata": {},
   "outputs": [],
   "source": [
    "df_train=pd.read_csv(r'C:\\Users\\EM361VF\\Downloads\\train.csv',index_col=False)"
   ]
  },
  {
   "cell_type": "code",
   "execution_count": 436,
   "id": "bf50d90d",
   "metadata": {},
   "outputs": [],
   "source": [
    "#Data Preprocessing\n",
    "\n",
    "#replacing null values with 0 for prodicts purchased column\n",
    "df_train['products_purchased'].fillna(0, inplace=True)\n",
    "\n",
    "#replacing null values in signup date with created date\n",
    "df_train.loc[df_train.signup_date.isna(), 'signup_date'] = df_train.created_at\n",
    "df_train['signup_date']= pd.to_datetime(df_train['signup_date'])\n",
    "df_train['created_at']= pd.to_datetime(df_train['created_at'])\n",
    "\n",
    "#creating a feature days_diff to calculate difference between signup date and created date\n",
    "df_train['days_diff'] = df_train['created_at']-df_train['signup_date']\n",
    "df_train['days_diff']=df_train['days_diff'].values\n",
    "df_train['days_diff']=df_train['days_diff'].dt.days\n",
    "\n",
    "#dropping both date column\n",
    "df_train.drop(['created_at','signup_date'],axis = 1, inplace = True)\n",
    "df_train['products_purchased']=df_train['products_purchased'].astype(int)"
   ]
  },
  {
   "cell_type": "code",
   "execution_count": 437,
   "id": "175c70c5",
   "metadata": {},
   "outputs": [],
   "source": [
    "col = df_train.columns\n",
    "notcol = ['id','buy']\n",
    "colnew = [i for i in col if i not in notcol]\n",
    "features=np.array(df_train.loc[:,colnew])\n",
    "labels = np.array(df_train.buy)"
   ]
  },
  {
   "cell_type": "code",
   "execution_count": 438,
   "id": "8ee72e36",
   "metadata": {},
   "outputs": [],
   "source": [
    "from sklearn.model_selection import train_test_split\n",
    "# Split the data into training and testing sets\n",
    "\n",
    "train_features, test_features, train_labels, test_labels = train_test_split(features, labels, test_size = 0.25, random_state = 42)"
   ]
  },
  {
   "cell_type": "code",
   "execution_count": 439,
   "id": "a626f730",
   "metadata": {},
   "outputs": [
    {
     "name": "stdout",
     "output_type": "stream",
     "text": [
      "Training Features Shape: (29370, 16)\n",
      "Training Labels Shape: (29370,)\n",
      "Testing Features Shape: (9791, 16)\n",
      "Testing Labels Shape: (9791,)\n"
     ]
    }
   ],
   "source": [
    "print('Training Features Shape:', train_features.shape)\n",
    "print('Training Labels Shape:', train_labels.shape)\n",
    "print('Testing Features Shape:', test_features.shape)\n",
    "print('Testing Labels Shape:', test_labels.shape)"
   ]
  },
  {
   "cell_type": "code",
   "execution_count": 491,
   "id": "e8f1fef7",
   "metadata": {},
   "outputs": [],
   "source": [
    "rf = RandomForestClassifier(n_estimators=100,min_samples_leaf = 2,min_samples_split = 5,bootstrap = False)"
   ]
  },
  {
   "cell_type": "code",
   "execution_count": 492,
   "id": "4d21320a",
   "metadata": {},
   "outputs": [],
   "source": [
    "rf.fit(train_features, train_labels)\n",
    " \n",
    "# performing predictions on the test dataset\n",
    "rf1 = rf.predict(test_features)"
   ]
  },
  {
   "cell_type": "code",
   "execution_count": 493,
   "id": "a005e9bc",
   "metadata": {},
   "outputs": [
    {
     "name": "stdout",
     "output_type": "stream",
     "text": [
      "ACCURACY OF THE MODEL:  0.9755898273925033\n"
     ]
    }
   ],
   "source": [
    "from sklearn import metrics \n",
    "# using metrics module for accuracy calculation\n",
    "print(\"ACCURACY OF THE MODEL: \", metrics.accuracy_score(test_labels, rf1))"
   ]
  },
  {
   "cell_type": "code",
   "execution_count": 494,
   "id": "0e6fc9ea",
   "metadata": {},
   "outputs": [],
   "source": [
    "from sklearn import metrics\n",
    "# testing score of label 1\n",
    "score = metrics.f1_score(test_labels, rf1,pos_label=1)"
   ]
  },
  {
   "cell_type": "code",
   "execution_count": 495,
   "id": "c9cab683",
   "metadata": {},
   "outputs": [
    {
     "data": {
      "text/plain": [
       "0.7053020961775585"
      ]
     },
     "execution_count": 495,
     "metadata": {},
     "output_type": "execute_result"
    }
   ],
   "source": [
    "#0.69756\n",
    "score"
   ]
  },
  {
   "cell_type": "code",
   "execution_count": null,
   "id": "fc4946bf",
   "metadata": {},
   "outputs": [],
   "source": [
    "# from sklearn.model_selection import RandomizedSearchCV\n",
    "\n",
    "# # Number of trees in random forest\n",
    "# n_estimators = [int(x) for x in range(200,2000,200)]\n",
    "# # Number of features to consider at every split\n",
    "# max_features = ['auto', 'sqrt']\n",
    "# # Maximum number of levels in tree\n",
    "# max_depth = [int(x) for x in np.linspace(10, 110, num = 11)]\n",
    "# max_depth.append(None)\n",
    "# # Minimum number of samples required to split a node\n",
    "# min_samples_split = [2, 5, 10]\n",
    "# # Minimum number of samples required at each leaf node\n",
    "# min_samples_leaf = [1, 2, 4]\n",
    "# # Method of selecting samples for training each tree\n",
    "# bootstrap = [True, False]\n",
    "# # Create the random grid\n",
    "# random_grid = {'n_estimators': n_estimators,\n",
    "#                'max_features': max_features,\n",
    "#                'max_depth': max_depth,\n",
    "#                'min_samples_split': min_samples_split,\n",
    "#                'min_samples_leaf': min_samples_leaf,\n",
    "#                'bootstrap': bootstrap}\n",
    "# print(random_grid)"
   ]
  },
  {
   "cell_type": "code",
   "execution_count": null,
   "id": "2bfb8ca2",
   "metadata": {},
   "outputs": [],
   "source": [
    "# rf = RandomForestClassifier()\n",
    "# # Random search of parameters, using 3 fold cross validation, \n",
    "# # search across 100 different combinations, and use all available cores\n",
    "# rf_random = RandomizedSearchCV(estimator = rf, param_distributions = random_grid, n_iter = 100, cv = 3, verbose=2, random_state=42, n_jobs = -1)\n",
    "# # Fit the random search model\n",
    "# rf_random.fit(train_features, train_labels)"
   ]
  },
  {
   "cell_type": "code",
   "execution_count": null,
   "id": "16fb85ed",
   "metadata": {},
   "outputs": [],
   "source": [
    "# rf_random.best_params_"
   ]
  },
  {
   "cell_type": "code",
   "execution_count": null,
   "id": "453c290d",
   "metadata": {},
   "outputs": [],
   "source": [
    "# from sklearn import metrics\n",
    "\n",
    "# def evaluate(model, test_features, test_labels):\n",
    "#     y_pred = model.predict(test_features)\n",
    "#     accuracy = metrics.accuracy_score(test_features, y_pred)\n",
    "#     print (accuracy)\n",
    "#     print(confusion_matrix(y_test,y_pred))\n",
    "    \n",
    "\n",
    "# best_random = rf_random.best_estimator_\n",
    "# evaluate(best_random, x_test, y_test)"
   ]
  },
  {
   "cell_type": "code",
   "execution_count": 496,
   "id": "ab99a15b",
   "metadata": {},
   "outputs": [],
   "source": [
    "df_test=pd.read_csv(r'C:\\Users\\EM361VF\\Downloads\\test.csv',index_col=False)"
   ]
  },
  {
   "cell_type": "code",
   "execution_count": 497,
   "id": "6afe0a17",
   "metadata": {},
   "outputs": [],
   "source": [
    "df_test['products_purchased'].fillna(0, inplace=True)\n",
    "df_test.loc[df_test.signup_date.isna(), 'signup_date'] = df_test.created_at\n",
    "df_test['signup_date']= pd.to_datetime(df_test['signup_date'])\n",
    "df_test['created_at']= pd.to_datetime(df_test['created_at'])\n",
    "df_test['days_diff'] = df_test['created_at']-df_test['signup_date']\n",
    "df_test['days_diff']=df_test['days_diff'].values\n",
    "df_test['days_diff']=df_test['days_diff'].dt.days\n",
    "df_test.drop(['created_at','signup_date'],axis = 1, inplace = True)\n",
    "df_test['products_purchased']=df_test['products_purchased'].astype(int)\n"
   ]
  },
  {
   "cell_type": "code",
   "execution_count": 498,
   "id": "16a62ae4",
   "metadata": {},
   "outputs": [
    {
     "data": {
      "text/html": [
       "<div>\n",
       "<style scoped>\n",
       "    .dataframe tbody tr th:only-of-type {\n",
       "        vertical-align: middle;\n",
       "    }\n",
       "\n",
       "    .dataframe tbody tr th {\n",
       "        vertical-align: top;\n",
       "    }\n",
       "\n",
       "    .dataframe thead th {\n",
       "        text-align: right;\n",
       "    }\n",
       "</style>\n",
       "<table border=\"1\" class=\"dataframe\">\n",
       "  <thead>\n",
       "    <tr style=\"text-align: right;\">\n",
       "      <th></th>\n",
       "      <th>id</th>\n",
       "      <th>campaign_var_1</th>\n",
       "      <th>campaign_var_2</th>\n",
       "      <th>products_purchased</th>\n",
       "      <th>user_activity_var_1</th>\n",
       "      <th>user_activity_var_2</th>\n",
       "      <th>user_activity_var_3</th>\n",
       "      <th>user_activity_var_4</th>\n",
       "      <th>user_activity_var_5</th>\n",
       "      <th>user_activity_var_6</th>\n",
       "      <th>user_activity_var_7</th>\n",
       "      <th>user_activity_var_8</th>\n",
       "      <th>user_activity_var_9</th>\n",
       "      <th>user_activity_var_10</th>\n",
       "      <th>user_activity_var_11</th>\n",
       "      <th>user_activity_var_12</th>\n",
       "      <th>days_diff</th>\n",
       "    </tr>\n",
       "  </thead>\n",
       "  <tbody>\n",
       "    <tr>\n",
       "      <th>0</th>\n",
       "      <td>39162</td>\n",
       "      <td>2</td>\n",
       "      <td>2</td>\n",
       "      <td>0</td>\n",
       "      <td>1</td>\n",
       "      <td>1</td>\n",
       "      <td>0</td>\n",
       "      <td>0</td>\n",
       "      <td>0</td>\n",
       "      <td>1</td>\n",
       "      <td>0</td>\n",
       "      <td>0</td>\n",
       "      <td>0</td>\n",
       "      <td>0</td>\n",
       "      <td>1</td>\n",
       "      <td>0</td>\n",
       "      <td>137</td>\n",
       "    </tr>\n",
       "    <tr>\n",
       "      <th>1</th>\n",
       "      <td>39163</td>\n",
       "      <td>4</td>\n",
       "      <td>7</td>\n",
       "      <td>3</td>\n",
       "      <td>1</td>\n",
       "      <td>0</td>\n",
       "      <td>0</td>\n",
       "      <td>0</td>\n",
       "      <td>0</td>\n",
       "      <td>0</td>\n",
       "      <td>0</td>\n",
       "      <td>1</td>\n",
       "      <td>0</td>\n",
       "      <td>0</td>\n",
       "      <td>0</td>\n",
       "      <td>0</td>\n",
       "      <td>590</td>\n",
       "    </tr>\n",
       "    <tr>\n",
       "      <th>2</th>\n",
       "      <td>39164</td>\n",
       "      <td>8</td>\n",
       "      <td>7</td>\n",
       "      <td>0</td>\n",
       "      <td>0</td>\n",
       "      <td>0</td>\n",
       "      <td>0</td>\n",
       "      <td>0</td>\n",
       "      <td>1</td>\n",
       "      <td>1</td>\n",
       "      <td>0</td>\n",
       "      <td>0</td>\n",
       "      <td>0</td>\n",
       "      <td>0</td>\n",
       "      <td>0</td>\n",
       "      <td>0</td>\n",
       "      <td>0</td>\n",
       "    </tr>\n",
       "    <tr>\n",
       "      <th>3</th>\n",
       "      <td>39165</td>\n",
       "      <td>9</td>\n",
       "      <td>8</td>\n",
       "      <td>2</td>\n",
       "      <td>0</td>\n",
       "      <td>0</td>\n",
       "      <td>0</td>\n",
       "      <td>0</td>\n",
       "      <td>1</td>\n",
       "      <td>1</td>\n",
       "      <td>1</td>\n",
       "      <td>0</td>\n",
       "      <td>0</td>\n",
       "      <td>0</td>\n",
       "      <td>2</td>\n",
       "      <td>0</td>\n",
       "      <td>558</td>\n",
       "    </tr>\n",
       "    <tr>\n",
       "      <th>4</th>\n",
       "      <td>39166</td>\n",
       "      <td>4</td>\n",
       "      <td>5</td>\n",
       "      <td>2</td>\n",
       "      <td>1</td>\n",
       "      <td>0</td>\n",
       "      <td>0</td>\n",
       "      <td>0</td>\n",
       "      <td>0</td>\n",
       "      <td>0</td>\n",
       "      <td>0</td>\n",
       "      <td>0</td>\n",
       "      <td>0</td>\n",
       "      <td>0</td>\n",
       "      <td>0</td>\n",
       "      <td>0</td>\n",
       "      <td>297</td>\n",
       "    </tr>\n",
       "  </tbody>\n",
       "</table>\n",
       "</div>"
      ],
      "text/plain": [
       "      id  campaign_var_1  campaign_var_2  products_purchased  \\\n",
       "0  39162               2               2                   0   \n",
       "1  39163               4               7                   3   \n",
       "2  39164               8               7                   0   \n",
       "3  39165               9               8                   2   \n",
       "4  39166               4               5                   2   \n",
       "\n",
       "   user_activity_var_1  user_activity_var_2  user_activity_var_3  \\\n",
       "0                    1                    1                    0   \n",
       "1                    1                    0                    0   \n",
       "2                    0                    0                    0   \n",
       "3                    0                    0                    0   \n",
       "4                    1                    0                    0   \n",
       "\n",
       "   user_activity_var_4  user_activity_var_5  user_activity_var_6  \\\n",
       "0                    0                    0                    1   \n",
       "1                    0                    0                    0   \n",
       "2                    0                    1                    1   \n",
       "3                    0                    1                    1   \n",
       "4                    0                    0                    0   \n",
       "\n",
       "   user_activity_var_7  user_activity_var_8  user_activity_var_9  \\\n",
       "0                    0                    0                    0   \n",
       "1                    0                    1                    0   \n",
       "2                    0                    0                    0   \n",
       "3                    1                    0                    0   \n",
       "4                    0                    0                    0   \n",
       "\n",
       "   user_activity_var_10  user_activity_var_11  user_activity_var_12  days_diff  \n",
       "0                     0                     1                     0        137  \n",
       "1                     0                     0                     0        590  \n",
       "2                     0                     0                     0          0  \n",
       "3                     0                     2                     0        558  \n",
       "4                     0                     0                     0        297  "
      ]
     },
     "execution_count": 498,
     "metadata": {},
     "output_type": "execute_result"
    }
   ],
   "source": [
    "df_test.head()"
   ]
  },
  {
   "cell_type": "code",
   "execution_count": 499,
   "id": "e769454d",
   "metadata": {},
   "outputs": [],
   "source": [
    "col = df_test.columns\n",
    "notcol = ['id']\n",
    "colnew = [i for i in col if i not in notcol]\n",
    "features_new=np.array(df_test.loc[:,colnew])"
   ]
  },
  {
   "cell_type": "code",
   "execution_count": 500,
   "id": "98955613",
   "metadata": {},
   "outputs": [
    {
     "name": "stdout",
     "output_type": "stream",
     "text": [
      "[1 0 0 ... 0 0 0]\n"
     ]
    }
   ],
   "source": [
    "rf2= rf.predict(features_new)\n",
    "print(rf2)"
   ]
  },
  {
   "cell_type": "code",
   "execution_count": 501,
   "id": "b3b48a1e",
   "metadata": {},
   "outputs": [],
   "source": [
    "df_id=np.array(df_test.id)"
   ]
  },
  {
   "cell_type": "code",
   "execution_count": 502,
   "id": "3593332d",
   "metadata": {},
   "outputs": [],
   "source": [
    "df = pd.DataFrame({'id':df_id, 'buy':rf2})"
   ]
  },
  {
   "cell_type": "code",
   "execution_count": 503,
   "id": "998f8b1c",
   "metadata": {},
   "outputs": [],
   "source": [
    "df.to_csv(r'C:\\Users\\EM361VF\\Downloads\\test_results3.csv')"
   ]
  },
  {
   "cell_type": "code",
   "execution_count": null,
   "id": "4704d0c3",
   "metadata": {},
   "outputs": [],
   "source": []
  }
 ],
 "metadata": {
  "kernelspec": {
   "display_name": "Python 3",
   "language": "python",
   "name": "python3"
  },
  "language_info": {
   "codemirror_mode": {
    "name": "ipython",
    "version": 3
   },
   "file_extension": ".py",
   "mimetype": "text/x-python",
   "name": "python",
   "nbconvert_exporter": "python",
   "pygments_lexer": "ipython3",
   "version": "3.8.8"
  }
 },
 "nbformat": 4,
 "nbformat_minor": 5
}
